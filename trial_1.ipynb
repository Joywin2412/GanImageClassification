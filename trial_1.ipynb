{
 "cells": [
  {
   "cell_type": "code",
   "execution_count": 50,
   "metadata": {},
   "outputs": [],
   "source": [
    "%matplotlib inline\n",
    "from matplotlib import pyplot as plt\n",
    "import numpy as np\n",
    "import tensorflow as tf\n",
    "from tensorflow import keras\n",
    "from tensorflow.keras import Sequential, layers\n",
    "from tensorflow.keras.layers import Conv2D, MaxPooling2D, Flatten, Dense\n",
    "from tensorflow.keras.utils import to_categorical"
   ]
  },
  {
   "cell_type": "code",
   "execution_count": 51,
   "metadata": {},
   "outputs": [],
   "source": [
    "import glob\n",
    "import os\n",
    "import PIL\n",
    "import time\n",
    "\n",
    "from IPython import display"
   ]
  },
  {
   "cell_type": "code",
   "execution_count": 52,
   "metadata": {},
   "outputs": [],
   "source": [
    "def make_generator_model():\n",
    "    model = tf.keras.Sequential()\n",
    "    model.add(layers.Dense(7*7*256, use_bias=False, input_shape=(100,)))\n",
    "    model.add(layers.BatchNormalization())\n",
    "    model.add(layers.LeakyReLU())\n",
    "\n",
    "    model.add(layers.Reshape((7, 7, 256)))\n",
    "    assert model.output_shape == (None, 7, 7, 256) # Note: None is the batch size\n",
    "\n",
    "    model.add(layers.Conv2DTranspose(128, (5, 5), strides=(1, 1), padding='same', use_bias=False))\n",
    "    assert model.output_shape == (None, 7, 7, 128)\n",
    "    model.add(layers.BatchNormalization())\n",
    "    model.add(layers.LeakyReLU())\n",
    "\n",
    "    model.add(layers.Conv2DTranspose(64, (5, 5), strides=(2, 2), padding='same', use_bias=False))\n",
    "    assert model.output_shape == (None, 14, 14, 64)\n",
    "    model.add(layers.BatchNormalization())\n",
    "    model.add(layers.LeakyReLU())\n",
    "\n",
    "    model.add(layers.Conv2DTranspose(1, (5, 5), strides=(2, 2), padding='same', use_bias=False, activation='tanh'))\n",
    "    assert model.output_shape == (None, 28, 28, 1)\n",
    "\n",
    "    return model"
   ]
  },
  {
   "cell_type": "code",
   "execution_count": 53,
   "metadata": {},
   "outputs": [],
   "source": [
    "def make_discriminator_model():\n",
    "    model = tf.keras.Sequential()\n",
    "    model.add(layers.Conv2D(64, (5, 5), strides=(2, 2), padding='same',\n",
    "                                     input_shape=[28, 28, 1]))\n",
    "    model.add(layers.LeakyReLU())\n",
    "    model.add(layers.Dropout(0.3))\n",
    "\n",
    "    model.add(layers.Conv2D(128, (5, 5), strides=(2, 2), padding='same'))\n",
    "    model.add(layers.LeakyReLU())\n",
    "    model.add(layers.Dropout(0.3))\n",
    "\n",
    "    model.add(layers.Flatten())\n",
    "    model.add(layers.Dense(1))\n",
    "\n",
    "    return model"
   ]
  },
  {
   "cell_type": "code",
   "execution_count": 54,
   "metadata": {},
   "outputs": [],
   "source": [
    "generator = make_generator_model()\n",
    "discriminator = make_discriminator_model()\n",
    "generator_optimizer = tf.keras.optimizers.Adam(1e-4)\n",
    "discriminator_optimizer = tf.keras.optimizers.Adam(1e-4)"
   ]
  },
  {
   "cell_type": "code",
   "execution_count": 55,
   "metadata": {},
   "outputs": [],
   "source": [
    "checkpoint_dir = './training_checkpoints'\n",
    "checkpoint_prefix = os.path.join(checkpoint_dir, \"ckpt\")\n",
    "checkpoint = tf.train.Checkpoint(generator_optimizer=generator_optimizer,\n",
    "                                 discriminator_optimizer=discriminator_optimizer,\n",
    "                                 generator=generator,\n",
    "                                 discriminator=discriminator)"
   ]
  },
  {
   "cell_type": "code",
   "execution_count": 56,
   "metadata": {},
   "outputs": [
    {
     "data": {
      "text/plain": [
       "<tensorflow.python.checkpoint.checkpoint.CheckpointLoadStatus at 0x17544587ed0>"
      ]
     },
     "execution_count": 56,
     "metadata": {},
     "output_type": "execute_result"
    }
   ],
   "source": [
    "checkpoint.restore(tf.train.latest_checkpoint(checkpoint_dir))"
   ]
  },
  {
   "cell_type": "code",
   "execution_count": 57,
   "metadata": {},
   "outputs": [
    {
     "data": {
      "text/plain": [
       "<matplotlib.image.AxesImage at 0x17543597a50>"
      ]
     },
     "execution_count": 57,
     "metadata": {},
     "output_type": "execute_result"
    },
    {
     "data": {
      "image/png": "[encoded data removed]",
      "text/plain": [
       "<Figure size 640x480 with 1 Axes>"
      ]
     },
     "metadata": {},
     "output_type": "display_data"
    }
   ],
   "source": [
    "noi = tf.random.normal([1, 100])\n",
    "sample = checkpoint.generator(noi, training=False)\n",
    "plt.imshow(sample[0, :, :, 0], cmap='gray')"
   ]
  },
  {
   "cell_type": "code",
   "execution_count": 58,
   "metadata": {},
   "outputs": [
    {
     "name": "stdout",
     "output_type": "stream",
     "text": [
      "Model: \"sequential_7\"\n",
      "_________________________________________________________________\n",
      " Layer (type)                Output Shape              Param #   \n",
      "=================================================================\n",
      " conv2d_4 (Conv2D)           (None, 14, 14, 64)        1664      \n",
      "                                                                 \n",
      " leaky_re_lu_13 (LeakyReLU)  (None, 14, 14, 64)        0         \n",
      "                                                                 \n",
      " dropout_4 (Dropout)         (None, 14, 14, 64)        0         \n",
      "                                                                 \n",
      " conv2d_5 (Conv2D)           (None, 7, 7, 128)         204928    \n",
      "                                                                 \n",
      " leaky_re_lu_14 (LeakyReLU)  (None, 7, 7, 128)         0         \n",
      "                                                                 \n",
      " dropout_5 (Dropout)         (None, 7, 7, 128)         0         \n",
      "                                                                 \n",
      " flatten_2 (Flatten)         (None, 6272)              0         \n",
      "                                                                 \n",
      " dense_7 (Dense)             (None, 1)                 6273      \n",
      "                                                                 \n",
      "=================================================================\n",
      "Total params: 212,865\n",
      "Trainable params: 212,865\n",
      "Non-trainable params: 0\n",
      "_________________________________________________________________\n"
     ]
    }
   ],
   "source": [
    "disc = checkpoint.discriminator\n",
    "disc.summary()"
   ]
  },
  {
   "cell_type": "code",
   "execution_count": 59,
   "metadata": {},
   "outputs": [
    {
     "name": "stdout",
     "output_type": "stream",
     "text": [
      "tf.Tensor([[-0.03843365]], shape=(1, 1), dtype=float32)\n"
     ]
    }
   ],
   "source": [
    "val = disc(sample)\n",
    "print (val)"
   ]
  },
  {
   "cell_type": "code",
   "execution_count": 60,
   "metadata": {},
   "outputs": [
    {
     "name": "stdout",
     "output_type": "stream",
     "text": [
      "Model: \"sequential_8\"\n",
      "_________________________________________________________________\n",
      " Layer (type)                Output Shape              Param #   \n",
      "=================================================================\n",
      " conv2d_4 (Conv2D)           (None, 14, 14, 64)        1664      \n",
      "                                                                 \n",
      " leaky_re_lu_13 (LeakyReLU)  (None, 14, 14, 64)        0         \n",
      "                                                                 \n",
      " dropout_4 (Dropout)         (None, 14, 14, 64)        0         \n",
      "                                                                 \n",
      " conv2d_5 (Conv2D)           (None, 7, 7, 128)         204928    \n",
      "                                                                 \n",
      " leaky_re_lu_14 (LeakyReLU)  (None, 7, 7, 128)         0         \n",
      "                                                                 \n",
      " dropout_5 (Dropout)         (None, 7, 7, 128)         0         \n",
      "                                                                 \n",
      " flatten_2 (Flatten)         (None, 6272)              0         \n",
      "                                                                 \n",
      " dense_8 (Dense)             (None, 2)                 12546     \n",
      "                                                                 \n",
      "=================================================================\n",
      "Total params: 219,138\n",
      "Trainable params: 12,546\n",
      "Non-trainable params: 206,592\n",
      "_________________________________________________________________\n"
     ]
    }
   ],
   "source": [
    "new_model = Sequential()\n",
    "\n",
    "for i in range(len(disc.layers) - 1):\n",
    "    new_model.add(disc.layers[i])\n",
    "\n",
    "# Freeze the layers \n",
    "for layer in new_model.layers:\n",
    "    layer.trainable = False    \n",
    "    \n",
    "new_model.add(Dense(2, activation='softmax'))\n",
    "new_model.summary()"
   ]
  },
  {
   "cell_type": "code",
   "execution_count": 61,
   "metadata": {},
   "outputs": [
    {
     "data": {
      "text/plain": [
       "[<tf.Variable 'dense_8/kernel:0' shape=(6272, 2) dtype=float32, numpy=\n",
       " array([[ 0.02232701, -0.02942179],\n",
       "        [ 0.01137393,  0.02672399],\n",
       "        [-0.01418339,  0.00167212],\n",
       "        ...,\n",
       "        [-0.01972076,  0.02986229],\n",
       "        [-0.02024342, -0.00981872],\n",
       "        [ 0.01476294, -0.00434264]], dtype=float32)>,\n",
       " <tf.Variable 'dense_8/bias:0' shape=(2,) dtype=float32, numpy=array([0., 0.], dtype=float32)>]"
      ]
     },
     "execution_count": 61,
     "metadata": {},
     "output_type": "execute_result"
    }
   ],
   "source": [
    "\n",
    "new_model.layers[-1].weights"
   ]
  },
  {
   "cell_type": "code",
   "execution_count": 62,
   "metadata": {},
   "outputs": [],
   "source": [
    "import os\n",
    "from PIL import Image\n",
    "import numpy as np\n",
    "\n",
    "# Set the path to your data directory\n",
    "data_dir = 'data/'\n",
    "categories = ['happy', 'sad']\n",
    "\n",
    "# Initialize lists to store images and labels\n",
    "train_img = []\n",
    "train_lb = []\n",
    "\n",
    "# Iterate over each category\n",
    "for label, category in enumerate(categories):\n",
    "    category_dir = os.path.join(data_dir, category)\n",
    "    for filename in os.listdir(category_dir):\n",
    "        if filename.endswith(\".jpg\") or filename.endswith(\".png\"):\n",
    "            # Load the image\n",
    "            img_path = os.path.join(category_dir, filename)\n",
    "            image = Image.open(img_path).convert('L')  # Convert to grayscale\n",
    "            image = image.resize((28, 28))  # Resize to 28x28 pixels (same as MNIST)\n",
    "            img_array = np.array(image)\n",
    "            \n",
    "            # Append image and label to the lists\n",
    "            train_img.append(img_array)\n",
    "            train_lb.append(label)\n",
    "\n",
    "# Convert lists to numpy arrays\n",
    "train_img = np.array(train_img)\n",
    "train_lb = np.array(train_lb)\n",
    "\n",
    "# Now, train_img and train_lb contain your images and labels\n"
   ]
  },
  {
   "cell_type": "code",
   "execution_count": 63,
   "metadata": {},
   "outputs": [],
   "source": [
    "from sklearn.model_selection import train_test_split\n"
   ]
  },
  {
   "cell_type": "code",
   "execution_count": 64,
   "metadata": {},
   "outputs": [],
   "source": [
    "train_img, test_img, train_lb, test_lb = train_test_split(train_img, train_lb, test_size=0.2, random_state=42)"
   ]
  },
  {
   "cell_type": "code",
   "execution_count": 65,
   "metadata": {},
   "outputs": [
    {
     "name": "stdout",
     "output_type": "stream",
     "text": [
      "(93, 28, 28) (93,) (24, 28, 28) (24,) \n",
      "\n",
      "(93, 28, 28) (93,) (24, 28, 28) (24,)\n"
     ]
    }
   ],
   "source": [
    "# (train_img, train_lb), (test_img, test_lb) = tf.keras.datasets.mnist.load_data()\n",
    "\n",
    "print(train_img.shape, train_lb.shape, test_img.shape, test_lb.shape, '\\n')\n",
    "\n",
    "# set random seed\n",
    "# randtrain = np.random.choice(train_img.shape[0], trainsize, replace=False)\n",
    "X_train, y_train = train_img, train_lb\n",
    "\n",
    "# randtest = np.random.choice(test_img.shape[0], testsize, replace=False)\n",
    "X_test, y_test = test_img, test_lb\n",
    "\n",
    "print(X_train.shape, y_train.shape, X_test.shape, y_test.shape)"
   ]
  },
  {
   "cell_type": "code",
   "execution_count": 66,
   "metadata": {},
   "outputs": [
    {
     "data": {
      "text/plain": [
       "array([0, 1, 0, 0, 1, 0, 1, 1, 1, 0, 1, 1, 0, 0, 1, 1, 0, 1, 1, 0, 1, 1,\n",
       "       1, 1, 0, 1, 0, 1, 0, 1, 1, 1, 0, 0, 1, 1, 0, 0, 1, 1, 0, 1, 0, 0,\n",
       "       1, 1, 0, 1, 1, 1, 1, 1, 1, 1, 1, 1, 1, 1, 1, 1, 1, 1, 1, 1, 1, 0,\n",
       "       1, 1, 1, 1, 1, 0, 1, 0, 1, 0, 0, 0, 1, 1, 1, 1, 1, 1, 1, 0, 1, 1,\n",
       "       1, 0, 1, 1, 1])"
      ]
     },
     "execution_count": 66,
     "metadata": {},
     "output_type": "execute_result"
    }
   ],
   "source": [
    "y_train"
   ]
  },
  {
   "cell_type": "code",
   "execution_count": 67,
   "metadata": {},
   "outputs": [
    {
     "data": {
      "text/plain": [
       "array([[1., 0.],\n",
       "       [0., 1.],\n",
       "       [1., 0.],\n",
       "       [1., 0.],\n",
       "       [0., 1.],\n",
       "       [1., 0.],\n",
       "       [0., 1.],\n",
       "       [0., 1.],\n",
       "       [0., 1.],\n",
       "       [1., 0.],\n",
       "       [0., 1.],\n",
       "       [0., 1.],\n",
       "       [1., 0.],\n",
       "       [1., 0.],\n",
       "       [0., 1.],\n",
       "       [0., 1.],\n",
       "       [1., 0.],\n",
       "       [0., 1.],\n",
       "       [0., 1.],\n",
       "       [1., 0.],\n",
       "       [0., 1.],\n",
       "       [0., 1.],\n",
       "       [0., 1.],\n",
       "       [0., 1.],\n",
       "       [1., 0.],\n",
       "       [0., 1.],\n",
       "       [1., 0.],\n",
       "       [0., 1.],\n",
       "       [1., 0.],\n",
       "       [0., 1.],\n",
       "       [0., 1.],\n",
       "       [0., 1.],\n",
       "       [1., 0.],\n",
       "       [1., 0.],\n",
       "       [0., 1.],\n",
       "       [0., 1.],\n",
       "       [1., 0.],\n",
       "       [1., 0.],\n",
       "       [0., 1.],\n",
       "       [0., 1.],\n",
       "       [1., 0.],\n",
       "       [0., 1.],\n",
       "       [1., 0.],\n",
       "       [1., 0.],\n",
       "       [0., 1.],\n",
       "       [0., 1.],\n",
       "       [1., 0.],\n",
       "       [0., 1.],\n",
       "       [0., 1.],\n",
       "       [0., 1.],\n",
       "       [0., 1.],\n",
       "       [0., 1.],\n",
       "       [0., 1.],\n",
       "       [0., 1.],\n",
       "       [0., 1.],\n",
       "       [0., 1.],\n",
       "       [0., 1.],\n",
       "       [0., 1.],\n",
       "       [0., 1.],\n",
       "       [0., 1.],\n",
       "       [0., 1.],\n",
       "       [0., 1.],\n",
       "       [0., 1.],\n",
       "       [0., 1.],\n",
       "       [0., 1.],\n",
       "       [1., 0.],\n",
       "       [0., 1.],\n",
       "       [0., 1.],\n",
       "       [0., 1.],\n",
       "       [0., 1.],\n",
       "       [0., 1.],\n",
       "       [1., 0.],\n",
       "       [0., 1.],\n",
       "       [1., 0.],\n",
       "       [0., 1.],\n",
       "       [1., 0.],\n",
       "       [1., 0.],\n",
       "       [1., 0.],\n",
       "       [0., 1.],\n",
       "       [0., 1.],\n",
       "       [0., 1.],\n",
       "       [0., 1.],\n",
       "       [0., 1.],\n",
       "       [0., 1.],\n",
       "       [0., 1.],\n",
       "       [1., 0.],\n",
       "       [0., 1.],\n",
       "       [0., 1.],\n",
       "       [0., 1.],\n",
       "       [1., 0.],\n",
       "       [0., 1.],\n",
       "       [0., 1.],\n",
       "       [0., 1.]], dtype=float32)"
      ]
     },
     "execution_count": 67,
     "metadata": {},
     "output_type": "execute_result"
    }
   ],
   "source": [
    "train_labels"
   ]
  },
  {
   "cell_type": "code",
   "execution_count": 68,
   "metadata": {},
   "outputs": [
    {
     "name": "stdout",
     "output_type": "stream",
     "text": [
      "93\n",
      "93\n"
     ]
    }
   ],
   "source": [
    "print(len(X_train))\n",
    "print(len(y_train))"
   ]
  },
  {
   "cell_type": "code",
   "execution_count": 74,
   "metadata": {},
   "outputs": [
    {
     "name": "stdout",
     "output_type": "stream",
     "text": [
      "Epoch 1/100\n",
      "1/1 [==============================] - 1s 784ms/step - loss: 0.6416 - accuracy: 0.6882 - val_loss: 0.6038 - val_accuracy: 0.7083\n",
      "Epoch 2/100\n",
      "1/1 [==============================] - 0s 77ms/step - loss: 0.6050 - accuracy: 0.6989 - val_loss: 0.6037 - val_accuracy: 0.7083\n",
      "Epoch 3/100\n",
      "1/1 [==============================] - 0s 92ms/step - loss: 0.6373 - accuracy: 0.6989 - val_loss: 0.6036 - val_accuracy: 0.7083\n",
      "Epoch 4/100\n",
      "1/1 [==============================] - 0s 93ms/step - loss: 0.6345 - accuracy: 0.6989 - val_loss: 0.6037 - val_accuracy: 0.7083\n",
      "Epoch 5/100\n",
      "1/1 [==============================] - 0s 85ms/step - loss: 0.6442 - accuracy: 0.6989 - val_loss: 0.6040 - val_accuracy: 0.7083\n",
      "Epoch 6/100\n",
      "1/1 [==============================] - 0s 73ms/step - loss: 0.6366 - accuracy: 0.6989 - val_loss: 0.6038 - val_accuracy: 0.7083\n",
      "Epoch 7/100\n",
      "1/1 [==============================] - 0s 71ms/step - loss: 0.6289 - accuracy: 0.6989 - val_loss: 0.6036 - val_accuracy: 0.7083\n",
      "Epoch 8/100\n",
      "1/1 [==============================] - 0s 75ms/step - loss: 0.6132 - accuracy: 0.6989 - val_loss: 0.6039 - val_accuracy: 0.7083\n",
      "Epoch 9/100\n",
      "1/1 [==============================] - 0s 69ms/step - loss: 0.6652 - accuracy: 0.6989 - val_loss: 0.6037 - val_accuracy: 0.7083\n",
      "Epoch 10/100\n",
      "1/1 [==============================] - 0s 63ms/step - loss: 0.6414 - accuracy: 0.6989 - val_loss: 0.6044 - val_accuracy: 0.7083\n",
      "Epoch 11/100\n",
      "1/1 [==============================] - 0s 69ms/step - loss: 0.6246 - accuracy: 0.6989 - val_loss: 0.6037 - val_accuracy: 0.7083\n",
      "Epoch 12/100\n",
      "1/1 [==============================] - 0s 69ms/step - loss: 0.6760 - accuracy: 0.6989 - val_loss: 0.6037 - val_accuracy: 0.7083\n",
      "Epoch 13/100\n",
      "1/1 [==============================] - 0s 67ms/step - loss: 0.6138 - accuracy: 0.6989 - val_loss: 0.6042 - val_accuracy: 0.7083\n",
      "Epoch 14/100\n",
      "1/1 [==============================] - 0s 71ms/step - loss: 0.6307 - accuracy: 0.6989 - val_loss: 0.6041 - val_accuracy: 0.7083\n",
      "Epoch 15/100\n",
      "1/1 [==============================] - 0s 64ms/step - loss: 0.6317 - accuracy: 0.6882 - val_loss: 0.6041 - val_accuracy: 0.7083\n",
      "Epoch 16/100\n",
      "1/1 [==============================] - 0s 71ms/step - loss: 0.6256 - accuracy: 0.6989 - val_loss: 0.6047 - val_accuracy: 0.7083\n",
      "Epoch 17/100\n",
      "1/1 [==============================] - 0s 75ms/step - loss: 0.6024 - accuracy: 0.6774 - val_loss: 0.6042 - val_accuracy: 0.7083\n",
      "Epoch 18/100\n",
      "1/1 [==============================] - 0s 118ms/step - loss: 0.6011 - accuracy: 0.6989 - val_loss: 0.6055 - val_accuracy: 0.7083\n",
      "Epoch 19/100\n",
      "1/1 [==============================] - 0s 74ms/step - loss: 0.6135 - accuracy: 0.6989 - val_loss: 0.6040 - val_accuracy: 0.7083\n",
      "Epoch 20/100\n",
      "1/1 [==============================] - 0s 76ms/step - loss: 0.6291 - accuracy: 0.6989 - val_loss: 0.6036 - val_accuracy: 0.7083\n",
      "Epoch 21/100\n",
      "1/1 [==============================] - 0s 79ms/step - loss: 0.6149 - accuracy: 0.7097 - val_loss: 0.6039 - val_accuracy: 0.7083\n",
      "Epoch 22/100\n",
      "1/1 [==============================] - 0s 85ms/step - loss: 0.6363 - accuracy: 0.6989 - val_loss: 0.6048 - val_accuracy: 0.7083\n",
      "Epoch 23/100\n",
      "1/1 [==============================] - 0s 75ms/step - loss: 0.6149 - accuracy: 0.6989 - val_loss: 0.6060 - val_accuracy: 0.7083\n",
      "Epoch 24/100\n",
      "1/1 [==============================] - 0s 68ms/step - loss: 0.6253 - accuracy: 0.6989 - val_loss: 0.6037 - val_accuracy: 0.7083\n",
      "Epoch 25/100\n",
      "1/1 [==============================] - 0s 75ms/step - loss: 0.6219 - accuracy: 0.6989 - val_loss: 0.6037 - val_accuracy: 0.7083\n",
      "Epoch 26/100\n",
      "1/1 [==============================] - 0s 72ms/step - loss: 0.6072 - accuracy: 0.6882 - val_loss: 0.6045 - val_accuracy: 0.7083\n",
      "Epoch 27/100\n",
      "1/1 [==============================] - 0s 74ms/step - loss: 0.6405 - accuracy: 0.6989 - val_loss: 0.6036 - val_accuracy: 0.7083\n",
      "Epoch 28/100\n",
      "1/1 [==============================] - 0s 68ms/step - loss: 0.6179 - accuracy: 0.7097 - val_loss: 0.6037 - val_accuracy: 0.7083\n",
      "Epoch 29/100\n",
      "1/1 [==============================] - 0s 69ms/step - loss: 0.6494 - accuracy: 0.6989 - val_loss: 0.6037 - val_accuracy: 0.7083\n",
      "Epoch 30/100\n",
      "1/1 [==============================] - 0s 75ms/step - loss: 0.6243 - accuracy: 0.6989 - val_loss: 0.6037 - val_accuracy: 0.7083\n",
      "Epoch 31/100\n",
      "1/1 [==============================] - 0s 75ms/step - loss: 0.6350 - accuracy: 0.6989 - val_loss: 0.6036 - val_accuracy: 0.7083\n",
      "Epoch 32/100\n",
      "1/1 [==============================] - 0s 73ms/step - loss: 0.6175 - accuracy: 0.6882 - val_loss: 0.6036 - val_accuracy: 0.7083\n",
      "Epoch 33/100\n",
      "1/1 [==============================] - 0s 72ms/step - loss: 0.6296 - accuracy: 0.6989 - val_loss: 0.6042 - val_accuracy: 0.7083\n",
      "Epoch 34/100\n",
      "1/1 [==============================] - 0s 72ms/step - loss: 0.6575 - accuracy: 0.6989 - val_loss: 0.6037 - val_accuracy: 0.7083\n",
      "Epoch 35/100\n",
      "1/1 [==============================] - 0s 70ms/step - loss: 0.6108 - accuracy: 0.6989 - val_loss: 0.6048 - val_accuracy: 0.7083\n",
      "Epoch 36/100\n",
      "1/1 [==============================] - 0s 67ms/step - loss: 0.6293 - accuracy: 0.6989 - val_loss: 0.6045 - val_accuracy: 0.7083\n",
      "Epoch 37/100\n",
      "1/1 [==============================] - 0s 74ms/step - loss: 0.6378 - accuracy: 0.6882 - val_loss: 0.6055 - val_accuracy: 0.7083\n",
      "Epoch 38/100\n",
      "1/1 [==============================] - 0s 70ms/step - loss: 0.6173 - accuracy: 0.6989 - val_loss: 0.6041 - val_accuracy: 0.7083\n",
      "Epoch 39/100\n",
      "1/1 [==============================] - 0s 70ms/step - loss: 0.6047 - accuracy: 0.6882 - val_loss: 0.6065 - val_accuracy: 0.7083\n",
      "Epoch 40/100\n",
      "1/1 [==============================] - 0s 72ms/step - loss: 0.6332 - accuracy: 0.6989 - val_loss: 0.6046 - val_accuracy: 0.7083\n",
      "Epoch 41/100\n",
      "1/1 [==============================] - 0s 78ms/step - loss: 0.6423 - accuracy: 0.6774 - val_loss: 0.6050 - val_accuracy: 0.7083\n",
      "Epoch 42/100\n",
      "1/1 [==============================] - 0s 106ms/step - loss: 0.6178 - accuracy: 0.7097 - val_loss: 0.6043 - val_accuracy: 0.7083\n",
      "Epoch 43/100\n",
      "1/1 [==============================] - 0s 71ms/step - loss: 0.6277 - accuracy: 0.6989 - val_loss: 0.6038 - val_accuracy: 0.7083\n",
      "Epoch 44/100\n",
      "1/1 [==============================] - 0s 80ms/step - loss: 0.6169 - accuracy: 0.6989 - val_loss: 0.6043 - val_accuracy: 0.7083\n",
      "Epoch 45/100\n",
      "1/1 [==============================] - 0s 68ms/step - loss: 0.6133 - accuracy: 0.6989 - val_loss: 0.6040 - val_accuracy: 0.7083\n",
      "Epoch 46/100\n",
      "1/1 [==============================] - 0s 78ms/step - loss: 0.6217 - accuracy: 0.6882 - val_loss: 0.6036 - val_accuracy: 0.7083\n",
      "Epoch 47/100\n",
      "1/1 [==============================] - 0s 74ms/step - loss: 0.6031 - accuracy: 0.6989 - val_loss: 0.6038 - val_accuracy: 0.7083\n",
      "Epoch 48/100\n",
      "1/1 [==============================] - 0s 71ms/step - loss: 0.6312 - accuracy: 0.6989 - val_loss: 0.6043 - val_accuracy: 0.7083\n",
      "Epoch 49/100\n",
      "1/1 [==============================] - 0s 71ms/step - loss: 0.6166 - accuracy: 0.6989 - val_loss: 0.6037 - val_accuracy: 0.7083\n",
      "Epoch 50/100\n",
      "1/1 [==============================] - 0s 74ms/step - loss: 0.6410 - accuracy: 0.6989 - val_loss: 0.6043 - val_accuracy: 0.7083\n",
      "Epoch 51/100\n",
      "1/1 [==============================] - 0s 69ms/step - loss: 0.6146 - accuracy: 0.6989 - val_loss: 0.6037 - val_accuracy: 0.7083\n",
      "Epoch 52/100\n",
      "1/1 [==============================] - 0s 74ms/step - loss: 0.6131 - accuracy: 0.6989 - val_loss: 0.6042 - val_accuracy: 0.7083\n",
      "Epoch 53/100\n",
      "1/1 [==============================] - 0s 75ms/step - loss: 0.6252 - accuracy: 0.6882 - val_loss: 0.6050 - val_accuracy: 0.7083\n",
      "Epoch 54/100\n",
      "1/1 [==============================] - 0s 78ms/step - loss: 0.6329 - accuracy: 0.6989 - val_loss: 0.6041 - val_accuracy: 0.7083\n",
      "Epoch 55/100\n",
      "1/1 [==============================] - 0s 72ms/step - loss: 0.6019 - accuracy: 0.7097 - val_loss: 0.6036 - val_accuracy: 0.7083\n",
      "Epoch 56/100\n",
      "1/1 [==============================] - 0s 73ms/step - loss: 0.6128 - accuracy: 0.6989 - val_loss: 0.6039 - val_accuracy: 0.7083\n",
      "Epoch 57/100\n",
      "1/1 [==============================] - 0s 76ms/step - loss: 0.6299 - accuracy: 0.6882 - val_loss: 0.6036 - val_accuracy: 0.7083\n",
      "Epoch 58/100\n",
      "1/1 [==============================] - 0s 87ms/step - loss: 0.6275 - accuracy: 0.6989 - val_loss: 0.6038 - val_accuracy: 0.7083\n",
      "Epoch 59/100\n",
      "1/1 [==============================] - 0s 80ms/step - loss: 0.6161 - accuracy: 0.6989 - val_loss: 0.6037 - val_accuracy: 0.7083\n",
      "Epoch 60/100\n",
      "1/1 [==============================] - 0s 75ms/step - loss: 0.6163 - accuracy: 0.7097 - val_loss: 0.6037 - val_accuracy: 0.7083\n",
      "Epoch 61/100\n",
      "1/1 [==============================] - 0s 70ms/step - loss: 0.6211 - accuracy: 0.6882 - val_loss: 0.6036 - val_accuracy: 0.7083\n",
      "Epoch 62/100\n",
      "1/1 [==============================] - 0s 71ms/step - loss: 0.6329 - accuracy: 0.6989 - val_loss: 0.6040 - val_accuracy: 0.7083\n",
      "Epoch 63/100\n",
      "1/1 [==============================] - 0s 73ms/step - loss: 0.6373 - accuracy: 0.6774 - val_loss: 0.6046 - val_accuracy: 0.7083\n",
      "Epoch 64/100\n",
      "1/1 [==============================] - 0s 99ms/step - loss: 0.6465 - accuracy: 0.6989 - val_loss: 0.6039 - val_accuracy: 0.7083\n",
      "Epoch 65/100\n",
      "1/1 [==============================] - 0s 90ms/step - loss: 0.6282 - accuracy: 0.6989 - val_loss: 0.6048 - val_accuracy: 0.7083\n",
      "Epoch 66/100\n",
      "1/1 [==============================] - 0s 81ms/step - loss: 0.6572 - accuracy: 0.6989 - val_loss: 0.6036 - val_accuracy: 0.7083\n",
      "Epoch 67/100\n",
      "1/1 [==============================] - 0s 75ms/step - loss: 0.6501 - accuracy: 0.6989 - val_loss: 0.6040 - val_accuracy: 0.7083\n",
      "Epoch 68/100\n",
      "1/1 [==============================] - 0s 72ms/step - loss: 0.6357 - accuracy: 0.6882 - val_loss: 0.6037 - val_accuracy: 0.7083\n",
      "Epoch 69/100\n",
      "1/1 [==============================] - 0s 72ms/step - loss: 0.5973 - accuracy: 0.6989 - val_loss: 0.6039 - val_accuracy: 0.7083\n",
      "Epoch 70/100\n",
      "1/1 [==============================] - 0s 72ms/step - loss: 0.5973 - accuracy: 0.6989 - val_loss: 0.6039 - val_accuracy: 0.7083\n",
      "Epoch 71/100\n",
      "1/1 [==============================] - 0s 80ms/step - loss: 0.6200 - accuracy: 0.6989 - val_loss: 0.6050 - val_accuracy: 0.7083\n",
      "Epoch 72/100\n",
      "1/1 [==============================] - 0s 80ms/step - loss: 0.6189 - accuracy: 0.6989 - val_loss: 0.6043 - val_accuracy: 0.7083\n",
      "Epoch 73/100\n",
      "1/1 [==============================] - 0s 74ms/step - loss: 0.6282 - accuracy: 0.6989 - val_loss: 0.6042 - val_accuracy: 0.7083\n",
      "Epoch 74/100\n",
      "1/1 [==============================] - 0s 76ms/step - loss: 0.6273 - accuracy: 0.6882 - val_loss: 0.6038 - val_accuracy: 0.7083\n",
      "Epoch 75/100\n",
      "1/1 [==============================] - 0s 69ms/step - loss: 0.6323 - accuracy: 0.6989 - val_loss: 0.6036 - val_accuracy: 0.7083\n",
      "Epoch 76/100\n",
      "1/1 [==============================] - 0s 68ms/step - loss: 0.6304 - accuracy: 0.6989 - val_loss: 0.6046 - val_accuracy: 0.7083\n",
      "Epoch 77/100\n",
      "1/1 [==============================] - 0s 74ms/step - loss: 0.6014 - accuracy: 0.6989 - val_loss: 0.6052 - val_accuracy: 0.7083\n",
      "Epoch 78/100\n",
      "1/1 [==============================] - 0s 74ms/step - loss: 0.6240 - accuracy: 0.6989 - val_loss: 0.6046 - val_accuracy: 0.7083\n",
      "Epoch 79/100\n",
      "1/1 [==============================] - 0s 94ms/step - loss: 0.6545 - accuracy: 0.6882 - val_loss: 0.6043 - val_accuracy: 0.7083\n",
      "Epoch 80/100\n",
      "1/1 [==============================] - 0s 72ms/step - loss: 0.6171 - accuracy: 0.6989 - val_loss: 0.6040 - val_accuracy: 0.7083\n",
      "Epoch 81/100\n",
      "1/1 [==============================] - 0s 70ms/step - loss: 0.6402 - accuracy: 0.6989 - val_loss: 0.6041 - val_accuracy: 0.7083\n",
      "Epoch 82/100\n",
      "1/1 [==============================] - 0s 68ms/step - loss: 0.6365 - accuracy: 0.6989 - val_loss: 0.6042 - val_accuracy: 0.7083\n",
      "Epoch 83/100\n",
      "1/1 [==============================] - 0s 71ms/step - loss: 0.5982 - accuracy: 0.6989 - val_loss: 0.6038 - val_accuracy: 0.7083\n",
      "Epoch 84/100\n",
      "1/1 [==============================] - 0s 77ms/step - loss: 0.6317 - accuracy: 0.6989 - val_loss: 0.6037 - val_accuracy: 0.7083\n",
      "Epoch 85/100\n",
      "1/1 [==============================] - 0s 77ms/step - loss: 0.6149 - accuracy: 0.6989 - val_loss: 0.6037 - val_accuracy: 0.7083\n",
      "Epoch 86/100\n",
      "1/1 [==============================] - 0s 109ms/step - loss: 0.6271 - accuracy: 0.6989 - val_loss: 0.6038 - val_accuracy: 0.7083\n",
      "Epoch 87/100\n",
      "1/1 [==============================] - 0s 66ms/step - loss: 0.5851 - accuracy: 0.6989 - val_loss: 0.6037 - val_accuracy: 0.7083\n",
      "Epoch 88/100\n",
      "1/1 [==============================] - 0s 71ms/step - loss: 0.6183 - accuracy: 0.6989 - val_loss: 0.6039 - val_accuracy: 0.7083\n",
      "Epoch 89/100\n",
      "1/1 [==============================] - 0s 75ms/step - loss: 0.6505 - accuracy: 0.7097 - val_loss: 0.6036 - val_accuracy: 0.7083\n",
      "Epoch 90/100\n",
      "1/1 [==============================] - 0s 67ms/step - loss: 0.6247 - accuracy: 0.6882 - val_loss: 0.6040 - val_accuracy: 0.7083\n",
      "Epoch 91/100\n",
      "1/1 [==============================] - 0s 71ms/step - loss: 0.6406 - accuracy: 0.6989 - val_loss: 0.6075 - val_accuracy: 0.7083\n",
      "Epoch 92/100\n",
      "1/1 [==============================] - 0s 78ms/step - loss: 0.6247 - accuracy: 0.6882 - val_loss: 0.6064 - val_accuracy: 0.7083\n",
      "Epoch 93/100\n",
      "1/1 [==============================] - 0s 78ms/step - loss: 0.6040 - accuracy: 0.6989 - val_loss: 0.6051 - val_accuracy: 0.7083\n",
      "Epoch 94/100\n",
      "1/1 [==============================] - 0s 82ms/step - loss: 0.5951 - accuracy: 0.6882 - val_loss: 0.6051 - val_accuracy: 0.7083\n",
      "Epoch 95/100\n",
      "1/1 [==============================] - 0s 76ms/step - loss: 0.6195 - accuracy: 0.6989 - val_loss: 0.6039 - val_accuracy: 0.7083\n",
      "Epoch 96/100\n",
      "1/1 [==============================] - 0s 66ms/step - loss: 0.6620 - accuracy: 0.6882 - val_loss: 0.6045 - val_accuracy: 0.7083\n",
      "Epoch 97/100\n",
      "1/1 [==============================] - 0s 94ms/step - loss: 0.6291 - accuracy: 0.6989 - val_loss: 0.6056 - val_accuracy: 0.7083\n",
      "Epoch 98/100\n",
      "1/1 [==============================] - 0s 69ms/step - loss: 0.6013 - accuracy: 0.6989 - val_loss: 0.6065 - val_accuracy: 0.7083\n",
      "Epoch 99/100\n",
      "1/1 [==============================] - 0s 66ms/step - loss: 0.6624 - accuracy: 0.6989 - val_loss: 0.6064 - val_accuracy: 0.7083\n",
      "Epoch 100/100\n",
      "1/1 [==============================] - 0s 74ms/step - loss: 0.6319 - accuracy: 0.6882 - val_loss: 0.6049 - val_accuracy: 0.7083\n"
     ]
    }
   ],
   "source": [
    "# train_images = X_train.reshape((trainsize, 28, 28, 1))\n",
    "X_train = (X_train.astype('float32') - 127.5) / 127.5\n",
    "\n",
    "# test_images = X_test.reshape((testsize, 28, 28, 1))\n",
    "X_test = (X_test.astype('float32') - 127.5) / 127.5\n",
    "\n",
    "train_labels = to_categorical(y_train)\n",
    "test_labels = to_categorical(y_test)\n",
    "\n",
    "new_model.compile(optimizer='sgd',\n",
    "                  loss='categorical_crossentropy',\n",
    "                  metrics=['accuracy'])\n",
    "\n",
    "history = new_model.fit(X_train, train_labels, batch_size=100, epochs=100,\n",
    "                        validation_data=(X_test, test_labels))\n"
   ]
  },
  {
   "cell_type": "code",
   "execution_count": 71,
   "metadata": {},
   "outputs": [
    {
     "data": {
      "image/png": "[encoded data removed]",
      "text/plain": [
       "<Figure size 640x480 with 1 Axes>"
      ]
     },
     "metadata": {},
     "output_type": "display_data"
    }
   ],
   "source": [
    "plt.figure()\n",
    "plt.plot(history.history['accuracy'], label='accuracy')\n",
    "plt.plot(history.history['val_accuracy'], label = 'val_accuracy')\n",
    "plt.xlabel('Epoch')\n",
    "plt.ylabel('Accuracy')\n",
    "plt.ylim([0.3, 1])\n",
    "plt.legend(loc='lower right')\n",
    "plt.show()"
   ]
  },
  {
   "cell_type": "code",
   "execution_count": null,
   "metadata": {},
   "outputs": [],
   "source": []
  }
 ],
 "metadata": {
  "kernelspec": {
   "display_name": "Python 3",
   "language": "python",
   "name": "python3"
  },
  "language_info": {
   "codemirror_mode": {
    "name": "ipython",
    "version": 3
   },
   "file_extension": ".py",
   "mimetype": "text/x-python",
   "name": "python",
   "nbconvert_exporter": "python",
   "pygments_lexer": "ipython3",
   "version": "3.11.0"
  }
 },
 "nbformat": 4,
 "nbformat_minor": 4
}
